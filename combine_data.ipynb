{
 "cells": [
  {
   "cell_type": "code",
   "execution_count": 2,
   "metadata": {},
   "outputs": [],
   "source": [
    "import glob\n",
    "import pandas as pd\n",
    "import os\n",
    "import  json\n",
    "csv_files = glob.glob('./data*.csv')\n",
    "json_list = []\n",
    "columns = ['product_name','image_link','price','product_link']\n",
    "for file in csv_files:\n",
    "    df = pd.read_csv(file, header=None)\n",
    "    df.columns = columns\n",
    "    file_name = os.path.basename(file)\n",
    "    \n",
    "    # Chuyển đổi DataFrame thành danh sách các từ điển\n",
    "    data = df.to_dict(orient='records')\n",
    "    \n",
    "    # Tạo cấu trúc JSON với tên tệp và dữ liệu\n",
    "    json_list.append({\n",
    "        \"calatog_name\": file_name.split('.')[0],\n",
    "        \"products\": data\n",
    "    })\n",
    "json_data = json.dumps(json_list, indent=4)\n",
    "json_file_path = 'product.json'\n",
    "with open(json_file_path, 'w') as json_file:\n",
    "    json_file.write(json_data)"
   ]
  }
 ],
 "metadata": {
  "kernelspec": {
   "display_name": "Python 3",
   "language": "python",
   "name": "python3"
  },
  "language_info": {
   "codemirror_mode": {
    "name": "ipython",
    "version": 3
   },
   "file_extension": ".py",
   "mimetype": "text/x-python",
   "name": "python",
   "nbconvert_exporter": "python",
   "pygments_lexer": "ipython3",
   "version": "3.10.0"
  }
 },
 "nbformat": 4,
 "nbformat_minor": 2
}
